{
 "cells": [
  {
   "cell_type": "markdown",
   "id": "38c05b68-ad1f-4048-a847-d7d0fccdd321",
   "metadata": {},
   "source": [
    "# NLTK 토큰화"
   ]
  },
  {
   "cell_type": "code",
   "execution_count": 1,
   "id": "3ff5c680-99fb-4852-94b2-33814544949c",
   "metadata": {},
   "outputs": [],
   "source": [
    "import spacy"
   ]
  },
  {
   "cell_type": "code",
   "execution_count": 2,
   "id": "a76e59fa-9517-41d6-b089-0dd9432bfdf9",
   "metadata": {},
   "outputs": [],
   "source": [
    "nlp = spacy.load('en_core_web_sm')\n",
    "text = \"Mary, don't slap the green witch.\""
   ]
  },
  {
   "cell_type": "code",
   "execution_count": 3,
   "id": "3360406f-8ede-4988-8379-a62eaa4963a7",
   "metadata": {},
   "outputs": [
    {
     "name": "stdout",
     "output_type": "stream",
     "text": [
      "['mary', ',', 'do', \"n't\", 'slap', 'the', 'green', 'witch', '.']\n"
     ]
    }
   ],
   "source": [
    "print([str(token) for token in nlp(text.lower())])"
   ]
  },
  {
   "cell_type": "code",
   "execution_count": 4,
   "id": "4f441ac5-7325-4c65-915f-70fcd695438c",
   "metadata": {},
   "outputs": [],
   "source": [
    "from nltk.tokenize import TweetTokenizer"
   ]
  },
  {
   "cell_type": "code",
   "execution_count": 5,
   "id": "d05904b6-d154-415e-a3f6-2225c2b4d043",
   "metadata": {},
   "outputs": [],
   "source": [
    "tweet = u\"Snow White and the Seven Degrees #MakeAMovieCold@midnight:-)\"\n",
    "tokenizer = TweetTokenizer()"
   ]
  },
  {
   "cell_type": "code",
   "execution_count": 6,
   "id": "ecbff020-d44a-4c13-bede-198b96e1f92c",
   "metadata": {},
   "outputs": [
    {
     "name": "stdout",
     "output_type": "stream",
     "text": [
      "['snow', 'white', 'and', 'the', 'seven', 'degrees', '#makeamoviecold', '@midnight', ':-)']\n"
     ]
    }
   ],
   "source": [
    "print(tokenizer.tokenize(tweet.lower()))"
   ]
  },
  {
   "cell_type": "markdown",
   "id": "882dbd1b-8afb-4e86-8e4a-ae99d78cbd13",
   "metadata": {},
   "source": [
    "# 유니그램, 바이그램, 트라이그램, ..., n-그램"
   ]
  },
  {
   "cell_type": "code",
   "execution_count": 7,
   "id": "69786ad3-7f02-4316-a1e7-0a274756671b",
   "metadata": {},
   "outputs": [],
   "source": [
    "def n_grams(text, n):\n",
    "    return [text[i:i+n] for i in range(len(text)-n+1)]"
   ]
  },
  {
   "cell_type": "code",
   "execution_count": 8,
   "id": "82efc043-e32d-4dc3-a525-58ddcb9e17cd",
   "metadata": {},
   "outputs": [],
   "source": [
    "cleaned = [str(token) for token in nlp(text.lower())]"
   ]
  },
  {
   "cell_type": "code",
   "execution_count": 9,
   "id": "681c35da-11ff-4e4f-bc44-0d93ca554197",
   "metadata": {},
   "outputs": [
    {
     "name": "stdout",
     "output_type": "stream",
     "text": [
      "[['mary', ',', 'do'], [',', 'do', \"n't\"], ['do', \"n't\", 'slap'], [\"n't\", 'slap', 'the'], ['slap', 'the', 'green'], ['the', 'green', 'witch'], ['green', 'witch', '.']]\n"
     ]
    }
   ],
   "source": [
    "print(n_grams(cleaned, 3))"
   ]
  },
  {
   "cell_type": "markdown",
   "id": "8af0197a-2810-4db2-b369-ee21f22a9af4",
   "metadata": {},
   "source": [
    "# 표제어 추출"
   ]
  },
  {
   "cell_type": "code",
   "execution_count": 10,
   "id": "b6d787d5-fea5-41d5-8cca-90f542082994",
   "metadata": {},
   "outputs": [],
   "source": [
    "import spacy"
   ]
  },
  {
   "cell_type": "code",
   "execution_count": 11,
   "id": "30fb7478-0458-4973-a43e-a699f18cb51f",
   "metadata": {},
   "outputs": [],
   "source": [
    "nlp = spacy.load('en_core_web_sm')\n",
    "doc = nlp(u\"he was running late\")"
   ]
  },
  {
   "cell_type": "code",
   "execution_count": 12,
   "id": "d91c42f2-3625-423a-965b-945b96ad14ca",
   "metadata": {},
   "outputs": [
    {
     "name": "stdout",
     "output_type": "stream",
     "text": [
      "he --> he\n",
      "was --> be\n",
      "running --> run\n",
      "late --> late\n"
     ]
    }
   ],
   "source": [
    "for token in doc :\n",
    "    print('{} --> {}'.format(token, token.lemma_))"
   ]
  },
  {
   "cell_type": "markdown",
   "id": "c3d94c28-71f3-48de-b8cc-19acb6aba529",
   "metadata": {},
   "source": [
    "# 단어 분류 - 품사 태깅(part-of-speech tagging)"
   ]
  },
  {
   "cell_type": "code",
   "execution_count": 13,
   "id": "66485321-d562-496a-be64-f6339f5d10a8",
   "metadata": {},
   "outputs": [],
   "source": [
    "nlp = spacy.load('en_core_web_sm')\n",
    "doc = nlp(u\"Mary slapped the green witch.\")"
   ]
  },
  {
   "cell_type": "code",
   "execution_count": 14,
   "id": "1bc822b9-f76d-44e9-b33d-82aa3418ed55",
   "metadata": {},
   "outputs": [
    {
     "name": "stdout",
     "output_type": "stream",
     "text": [
      "Mary - PROPN\n",
      "slapped - VERB\n",
      "the - DET\n",
      "green - ADJ\n",
      "witch - NOUN\n",
      ". - PUNCT\n"
     ]
    }
   ],
   "source": [
    "for token in doc :\n",
    "    print('{} - {}'.format(token, token.pos_))"
   ]
  },
  {
   "cell_type": "markdown",
   "id": "42a119ed-d564-4b49-bba5-f760edf19e2a",
   "metadata": {},
   "source": [
    "# 청크 나누기 - 기준 : 구"
   ]
  },
  {
   "cell_type": "code",
   "execution_count": 15,
   "id": "9de93e55-a29e-4fd2-ac7c-958cd324de7f",
   "metadata": {},
   "outputs": [],
   "source": [
    "nlp = spacy.load('en_core_web_sm')\n",
    "doc = nlp(u\"Mary slapped the green witch.\")"
   ]
  },
  {
   "cell_type": "code",
   "execution_count": 16,
   "id": "857c8302-2b0f-4e62-8a0d-86c3268699d9",
   "metadata": {},
   "outputs": [
    {
     "name": "stdout",
     "output_type": "stream",
     "text": [
      "Mary - NP\n",
      "the green witch - NP\n"
     ]
    }
   ],
   "source": [
    "for chunk in doc.noun_chunks: # 명사구 부분 구문 분석\n",
    "    print('{} - {}'.format(chunk, chunk.label_))"
   ]
  }
 ],
 "metadata": {
  "hide_input": false,
  "kernelspec": {
   "display_name": "Python 3 (ipykernel)",
   "language": "python",
   "name": "python3"
  },
  "language_info": {
   "codemirror_mode": {
    "name": "ipython",
    "version": 3
   },
   "file_extension": ".py",
   "mimetype": "text/x-python",
   "name": "python",
   "nbconvert_exporter": "python",
   "pygments_lexer": "ipython3",
   "version": "3.9.12"
  },
  "toc": {
   "base_numbering": 1,
   "nav_menu": {},
   "number_sections": true,
   "sideBar": true,
   "skip_h1_title": false,
   "title_cell": "Table of Contents",
   "title_sidebar": "Contents",
   "toc_cell": false,
   "toc_position": {},
   "toc_section_display": true,
   "toc_window_display": false
  },
  "varInspector": {
   "cols": {
    "lenName": 16,
    "lenType": 16,
    "lenVar": 40
   },
   "kernels_config": {
    "python": {
     "delete_cmd_postfix": "",
     "delete_cmd_prefix": "del ",
     "library": "var_list.py",
     "varRefreshCmd": "print(var_dic_list())"
    },
    "r": {
     "delete_cmd_postfix": ") ",
     "delete_cmd_prefix": "rm(",
     "library": "var_list.r",
     "varRefreshCmd": "cat(var_dic_list()) "
    }
   },
   "types_to_exclude": [
    "module",
    "function",
    "builtin_function_or_method",
    "instance",
    "_Feature"
   ],
   "window_display": false
  }
 },
 "nbformat": 4,
 "nbformat_minor": 5
}
