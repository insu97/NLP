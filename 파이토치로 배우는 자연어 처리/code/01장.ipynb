{
 "cells": [
  {
   "cell_type": "markdown",
   "id": "5b510d96-2e23-40a6-b338-892f4afcbf1a",
   "metadata": {},
   "source": [
    "# TF(Term-Frequency) 표현"
   ]
  },
  {
   "cell_type": "code",
   "execution_count": 1,
   "id": "d5a15bba-8db9-4529-abbb-ae8b39c01645",
   "metadata": {
    "ExecuteTime": {
     "end_time": "2023-08-01T10:09:49.643382Z",
     "start_time": "2023-08-01T10:09:46.457686Z"
    }
   },
   "outputs": [],
   "source": [
    "from sklearn.feature_extraction.text import CountVectorizer\n",
    "import seaborn as sns"
   ]
  },
  {
   "cell_type": "code",
   "execution_count": 2,
   "id": "bb480d1f-0656-4fd3-bb9d-44f40e0cc5c1",
   "metadata": {
    "ExecuteTime": {
     "end_time": "2023-08-01T10:09:50.186321Z",
     "start_time": "2023-08-01T10:09:50.169245Z"
    }
   },
   "outputs": [],
   "source": [
    "corpus = ['Time flies like an arrow.', \n",
    "          'Fruit flies like a banana.']"
   ]
  },
  {
   "cell_type": "code",
   "execution_count": 3,
   "id": "94dd30e7-fd52-4f6f-af1b-2918d1192bb1",
   "metadata": {
    "ExecuteTime": {
     "end_time": "2023-08-01T10:09:50.669956Z",
     "start_time": "2023-08-01T10:09:50.653251Z"
    }
   },
   "outputs": [],
   "source": [
    "one_hot_vectorizer = CountVectorizer(binary=True)"
   ]
  },
  {
   "cell_type": "code",
   "execution_count": 4,
   "id": "49650a4d-e45b-4a4f-84e7-2ed2388c1dce",
   "metadata": {
    "ExecuteTime": {
     "end_time": "2023-08-01T10:09:50.842575Z",
     "start_time": "2023-08-01T10:09:50.820291Z"
    }
   },
   "outputs": [],
   "source": [
    "one_hot = one_hot_vectorizer.fit_transform(corpus).toarray()"
   ]
  },
  {
   "cell_type": "code",
   "execution_count": 5,
   "id": "37cf62ea-5dad-4e76-8b8d-2728b70bbeba",
   "metadata": {
    "ExecuteTime": {
     "end_time": "2023-08-01T10:09:50.996685Z",
     "start_time": "2023-08-01T10:09:50.992951Z"
    }
   },
   "outputs": [],
   "source": [
    "vocab = one_hot_vectorizer.get_feature_names()"
   ]
  },
  {
   "cell_type": "code",
   "execution_count": 6,
   "id": "65533b11-22d9-491c-9152-a9cce0d8e62b",
   "metadata": {
    "ExecuteTime": {
     "end_time": "2023-08-01T10:09:51.197819Z",
     "start_time": "2023-08-01T10:09:51.180346Z"
    }
   },
   "outputs": [
    {
     "data": {
      "text/plain": [
       "array([[1, 1, 0, 1, 0, 1, 1],\n",
       "       [0, 0, 1, 1, 1, 1, 0]], dtype=int64)"
      ]
     },
     "execution_count": 6,
     "metadata": {},
     "output_type": "execute_result"
    }
   ],
   "source": [
    "one_hot"
   ]
  },
  {
   "cell_type": "code",
   "execution_count": 7,
   "id": "d6ea7fed-736a-42e0-9608-c0f13a6ee335",
   "metadata": {
    "ExecuteTime": {
     "end_time": "2023-08-01T10:09:51.369524Z",
     "start_time": "2023-08-01T10:09:51.358982Z"
    }
   },
   "outputs": [
    {
     "data": {
      "text/plain": [
       "['an', 'arrow', 'banana', 'flies', 'fruit', 'like', 'time']"
      ]
     },
     "execution_count": 7,
     "metadata": {},
     "output_type": "execute_result"
    }
   ],
   "source": [
    "vocab"
   ]
  },
  {
   "cell_type": "code",
   "execution_count": 8,
   "id": "cc2f25f6-f63c-4c9f-8734-5eb529a7ead1",
   "metadata": {
    "ExecuteTime": {
     "end_time": "2023-08-01T10:09:51.950424Z",
     "start_time": "2023-08-01T10:09:51.812543Z"
    }
   },
   "outputs": [
    {
     "data": {
      "text/plain": [
       "<AxesSubplot:>"
      ]
     },
     "execution_count": 8,
     "metadata": {},
     "output_type": "execute_result"
    },
    {
     "data": {
      "image/png": "[encoded data removed]",
      "text/plain": [
       "<Figure size 432x288 with 1 Axes>"
      ]
     },
     "metadata": {
      "needs_background": "light"
     },
     "output_type": "display_data"
    }
   ],
   "source": [
    "sns.heatmap(one_hot, annot=True,\n",
    "            cbar=False, xticklabels = vocab,\n",
    "            yticklabels=['Sentence 1', 'Sentence 2'])"
   ]
  },
  {
   "cell_type": "markdown",
   "id": "e1a683b1-4732-452a-8f6b-e660fd164685",
   "metadata": {},
   "source": [
    "# TF-IDF"
   ]
  },
  {
   "cell_type": "code",
   "execution_count": 9,
   "id": "5f05e3ed",
   "metadata": {
    "ExecuteTime": {
     "end_time": "2023-08-01T10:15:16.007130Z",
     "start_time": "2023-08-01T10:15:15.991254Z"
    }
   },
   "outputs": [],
   "source": [
    "# np.set_printoptions(precision=3)"
   ]
  },
  {
   "cell_type": "code",
   "execution_count": 10,
   "id": "af6c1289-8abd-4e01-913e-cf56e75cef72",
   "metadata": {
    "ExecuteTime": {
     "end_time": "2023-08-01T10:09:53.563968Z",
     "start_time": "2023-08-01T10:09:53.555369Z"
    }
   },
   "outputs": [],
   "source": [
    "from sklearn.feature_extraction.text import TfidfVectorizer\n",
    "import seaborn as sns"
   ]
  },
  {
   "cell_type": "code",
   "execution_count": 11,
   "id": "39ffcccc-e42c-4e6a-bb2e-131f64b18e5e",
   "metadata": {
    "ExecuteTime": {
     "end_time": "2023-08-01T10:09:53.719329Z",
     "start_time": "2023-08-01T10:09:53.707194Z"
    }
   },
   "outputs": [],
   "source": [
    "tfidf_vectorizer = TfidfVectorizer()"
   ]
  },
  {
   "cell_type": "code",
   "execution_count": 12,
   "id": "4164a032-32e7-4ac8-91e8-f2c4b366120a",
   "metadata": {
    "ExecuteTime": {
     "end_time": "2023-08-01T10:09:54.297164Z",
     "start_time": "2023-08-01T10:09:54.271340Z"
    }
   },
   "outputs": [],
   "source": [
    "tfidf = tfidf_vectorizer.fit_transform(corpus).toarray()"
   ]
  },
  {
   "cell_type": "code",
   "execution_count": 13,
   "id": "d4ff0873-c104-4ef1-89f8-c84a6612bf43",
   "metadata": {
    "ExecuteTime": {
     "end_time": "2023-08-01T10:09:55.791494Z",
     "start_time": "2023-08-01T10:09:55.680493Z"
    }
   },
   "outputs": [
    {
     "data": {
      "text/plain": [
       "<AxesSubplot:>"
      ]
     },
     "execution_count": 13,
     "metadata": {},
     "output_type": "execute_result"
    },
    {
     "data": {
      "image/png": "[encoded data removed]",
      "text/plain": [
       "<Figure size 432x288 with 1 Axes>"
      ]
     },
     "metadata": {
      "needs_background": "light"
     },
     "output_type": "display_data"
    }
   ],
   "source": [
    "sns.heatmap(tfidf, annot=True, cbar=False, xticklabels=vocab,\n",
    "            yticklabels = ['Sentence 1', 'Sentence 2'])"
   ]
  },
  {
   "cell_type": "markdown",
   "id": "6cb24c09-159f-49bd-abf5-38dc805cd016",
   "metadata": {},
   "source": [
    "# Pytorch 실습"
   ]
  },
  {
   "cell_type": "code",
   "execution_count": 14,
   "id": "573fcff0-200a-491c-8624-c77cf419a08a",
   "metadata": {},
   "outputs": [],
   "source": [
    "def describe(x):\n",
    "    print(\"타입: {}\".format(x.type()))\n",
    "    print(\"크기: {}\".format(x.shape))\n",
    "    print(\"값: {}\".format(x))"
   ]
  },
  {
   "cell_type": "code",
   "execution_count": 15,
   "id": "4b2bf40d-0266-408a-af61-d73bd48d8926",
   "metadata": {},
   "outputs": [],
   "source": [
    "import torch"
   ]
  },
  {
   "cell_type": "markdown",
   "id": "ed69844e-b24c-4f76-947b-f4fc94301bce",
   "metadata": {},
   "source": [
    "## 랜덤하게 초기화"
   ]
  },
  {
   "cell_type": "code",
   "execution_count": 16,
   "id": "dc6e46b4-c138-4bb1-a1a7-bbf52641d9dd",
   "metadata": {},
   "outputs": [
    {
     "name": "stdout",
     "output_type": "stream",
     "text": [
      "타입: torch.FloatTensor\n",
      "크기: torch.Size([2, 3])\n",
      "값: tensor([[4.6628e+37, 7.9734e-43, 4.6628e+37],\n",
      "        [7.9734e-43, 4.6633e+37, 7.9734e-43]])\n"
     ]
    }
   ],
   "source": [
    "describe(torch.Tensor(2,3))"
   ]
  },
  {
   "cell_type": "markdown",
   "id": "1663df73-1eec-4435-8c58-730cd9a4213a",
   "metadata": {},
   "source": [
    "## 균등분포, 표준정규분포"
   ]
  },
  {
   "cell_type": "code",
   "execution_count": 17,
   "id": "62fa0bf8-e80d-4856-88c5-8e4116cd56f5",
   "metadata": {},
   "outputs": [
    {
     "name": "stdout",
     "output_type": "stream",
     "text": [
      "타입: torch.FloatTensor\n",
      "크기: torch.Size([2, 3])\n",
      "값: tensor([[0.1547, 0.2543, 0.1646],\n",
      "        [0.7624, 0.2470, 0.8526]])\n",
      "------------------------------------\n",
      "타입: torch.FloatTensor\n",
      "크기: torch.Size([2, 3])\n",
      "값: tensor([[ 0.7249, -1.2544, -0.6484],\n",
      "        [ 0.3206,  0.2692, -2.1924]])\n"
     ]
    }
   ],
   "source": [
    "describe(torch.rand(2,3)) # 균등분포\n",
    "print('------------------------------------')\n",
    "describe(torch.randn(2,3)) # 표준 정규 분포"
   ]
  },
  {
   "cell_type": "markdown",
   "id": "438cae03-3ba3-47c5-b495-ce5e0546683f",
   "metadata": {},
   "source": [
    "## 동일한 스칼라 값"
   ]
  },
  {
   "cell_type": "code",
   "execution_count": 18,
   "id": "7b25c737-0796-4a89-9d5f-cc04abd99331",
   "metadata": {},
   "outputs": [
    {
     "name": "stdout",
     "output_type": "stream",
     "text": [
      "타입: torch.FloatTensor\n",
      "크기: torch.Size([2, 3])\n",
      "값: tensor([[1., 1., 1.],\n",
      "        [1., 1., 1.]])\n"
     ]
    }
   ],
   "source": [
    "x = torch.ones(2,3)\n",
    "describe(x)"
   ]
  },
  {
   "cell_type": "code",
   "execution_count": 19,
   "id": "c0ee7ca2-f717-4759-830c-210f29888857",
   "metadata": {},
   "outputs": [
    {
     "name": "stdout",
     "output_type": "stream",
     "text": [
      "타입: torch.FloatTensor\n",
      "크기: torch.Size([2, 3])\n",
      "값: tensor([[5., 5., 5.],\n",
      "        [5., 5., 5.]])\n"
     ]
    }
   ],
   "source": [
    "x.fill_(5) # _ : 파이토치 인-플레이스 메서드 : 텐서값을 바꾸는 연산을 의미\n",
    "describe(x)"
   ]
  },
  {
   "cell_type": "markdown",
   "id": "a738ee47-be41-4059-ad4a-53869be1993b",
   "metadata": {},
   "source": [
    "## 리스트 -> 텐서"
   ]
  },
  {
   "cell_type": "code",
   "execution_count": 20,
   "id": "5d793e91-2346-4bac-b0fc-61510d59de7e",
   "metadata": {},
   "outputs": [
    {
     "name": "stdout",
     "output_type": "stream",
     "text": [
      "타입: torch.FloatTensor\n",
      "크기: torch.Size([2, 3])\n",
      "값: tensor([[1., 2., 3.],\n",
      "        [4., 5., 6.]])\n"
     ]
    }
   ],
   "source": [
    "x = torch.Tensor([[1,2,3],[4,5,6]])\n",
    "describe(x)"
   ]
  },
  {
   "cell_type": "code",
   "execution_count": 21,
   "id": "8f95eced-ee2c-4b76-9a5f-bf9f62fe1c4e",
   "metadata": {},
   "outputs": [],
   "source": [
    "import numpy as np"
   ]
  },
  {
   "cell_type": "code",
   "execution_count": 22,
   "id": "753d1d11-fcac-4caf-97ad-2a42cbaa9b01",
   "metadata": {},
   "outputs": [
    {
     "name": "stdout",
     "output_type": "stream",
     "text": [
      "타입: torch.DoubleTensor\n",
      "크기: torch.Size([2, 3])\n",
      "값: tensor([[0.7799, 0.4203, 0.2823],\n",
      "        [0.3240, 0.6208, 0.4749]], dtype=torch.float64)\n"
     ]
    }
   ],
   "source": [
    "npy = np.random.rand(2,3)\n",
    "describe(torch.from_numpy(npy))"
   ]
  },
  {
   "cell_type": "markdown",
   "id": "4cddbe0a-e2dd-4daa-a7b0-188e8071f0cc",
   "metadata": {},
   "source": [
    "## 타입과 크기"
   ]
  },
  {
   "cell_type": "code",
   "execution_count": 23,
   "id": "bc6643d7-eb7f-4158-9569-dd9952a0e6c0",
   "metadata": {},
   "outputs": [
    {
     "name": "stdout",
     "output_type": "stream",
     "text": [
      "타입: torch.FloatTensor\n",
      "크기: torch.Size([2, 3])\n",
      "값: tensor([[1., 2., 3.],\n",
      "        [4., 5., 6.]])\n"
     ]
    }
   ],
   "source": [
    "x = torch.Tensor([[1,2,3],[4,5,6]])\n",
    "describe(x)"
   ]
  },
  {
   "cell_type": "code",
   "execution_count": 24,
   "id": "acb3489e-4e6d-4717-9231-28363a571843",
   "metadata": {},
   "outputs": [
    {
     "name": "stdout",
     "output_type": "stream",
     "text": [
      "타입: torch.LongTensor\n",
      "크기: torch.Size([2, 3])\n",
      "값: tensor([[1, 2, 3],\n",
      "        [4, 5, 6]])\n"
     ]
    }
   ],
   "source": [
    "x = x.long()\n",
    "describe(x)"
   ]
  },
  {
   "cell_type": "code",
   "execution_count": 25,
   "id": "5fadc728-8ad8-468d-87bb-5fc36e95a56f",
   "metadata": {},
   "outputs": [
    {
     "name": "stdout",
     "output_type": "stream",
     "text": [
      "타입: torch.LongTensor\n",
      "크기: torch.Size([2, 3])\n",
      "값: tensor([[1, 2, 3],\n",
      "        [4, 5, 6]])\n"
     ]
    }
   ],
   "source": [
    "x = torch.tensor([[1,2,3],[4,5,6]], dtype=torch.int64)\n",
    "describe(x)"
   ]
  },
  {
   "cell_type": "code",
   "execution_count": 26,
   "id": "7b67c86d-58ca-4439-86f4-7ede6de072e8",
   "metadata": {},
   "outputs": [
    {
     "name": "stdout",
     "output_type": "stream",
     "text": [
      "타입: torch.FloatTensor\n",
      "크기: torch.Size([2, 3])\n",
      "값: tensor([[1., 2., 3.],\n",
      "        [4., 5., 6.]])\n"
     ]
    }
   ],
   "source": [
    "x = x.float()\n",
    "describe(x)"
   ]
  },
  {
   "cell_type": "markdown",
   "id": "46b62b92-6c15-4eb3-a599-90d4031183a8",
   "metadata": {},
   "source": [
    "## 텐서 연산"
   ]
  },
  {
   "cell_type": "code",
   "execution_count": 27,
   "id": "557527ea-4972-4276-ae74-3ecafbb78923",
   "metadata": {},
   "outputs": [
    {
     "name": "stdout",
     "output_type": "stream",
     "text": [
      "타입: torch.FloatTensor\n",
      "크기: torch.Size([2, 3])\n",
      "값: tensor([[-1.5497,  0.2618,  1.7386],\n",
      "        [-1.2738, -1.0045,  0.0261]])\n"
     ]
    }
   ],
   "source": [
    "x = torch.randn(2,3)\n",
    "describe(x)"
   ]
  },
  {
   "cell_type": "code",
   "execution_count": 28,
   "id": "78371860-96b6-4d65-8718-5ffcf944381c",
   "metadata": {},
   "outputs": [
    {
     "name": "stdout",
     "output_type": "stream",
     "text": [
      "타입: torch.FloatTensor\n",
      "크기: torch.Size([2, 3])\n",
      "값: tensor([[-3.0995,  0.5236,  3.4772],\n",
      "        [-2.5475, -2.0091,  0.0523]])\n"
     ]
    }
   ],
   "source": [
    "describe(torch.add(x,x))"
   ]
  },
  {
   "cell_type": "code",
   "execution_count": 29,
   "id": "cc294048-d788-401c-8e02-f4f967409d25",
   "metadata": {},
   "outputs": [
    {
     "name": "stdout",
     "output_type": "stream",
     "text": [
      "타입: torch.FloatTensor\n",
      "크기: torch.Size([2, 3])\n",
      "값: tensor([[-3.0995,  0.5236,  3.4772],\n",
      "        [-2.5475, -2.0091,  0.0523]])\n"
     ]
    }
   ],
   "source": [
    "describe(x + x)"
   ]
  },
  {
   "cell_type": "code",
   "execution_count": 30,
   "id": "c0b31450-31e0-4a3a-bb90-4c35b6125f43",
   "metadata": {},
   "outputs": [
    {
     "name": "stdout",
     "output_type": "stream",
     "text": [
      "타입: torch.LongTensor\n",
      "크기: torch.Size([6])\n",
      "값: tensor([0, 1, 2, 3, 4, 5])\n"
     ]
    }
   ],
   "source": [
    "x = torch.arange(6)\n",
    "describe(x)"
   ]
  },
  {
   "cell_type": "code",
   "execution_count": 31,
   "id": "2e09abd2-95e6-41bd-99bf-0dc1e03d4031",
   "metadata": {},
   "outputs": [
    {
     "name": "stdout",
     "output_type": "stream",
     "text": [
      "타입: torch.LongTensor\n",
      "크기: torch.Size([2, 3])\n",
      "값: tensor([[0, 1, 2],\n",
      "        [3, 4, 5]])\n"
     ]
    }
   ],
   "source": [
    "x = x.view(2,3)\n",
    "describe(x)"
   ]
  },
  {
   "cell_type": "code",
   "execution_count": 32,
   "id": "c0f5b755-c304-4c94-981a-7bf95f4d86f1",
   "metadata": {},
   "outputs": [
    {
     "name": "stdout",
     "output_type": "stream",
     "text": [
      "타입: torch.LongTensor\n",
      "크기: torch.Size([3])\n",
      "값: tensor([3, 5, 7])\n"
     ]
    }
   ],
   "source": [
    "describe(torch.sum(x, dim=0))"
   ]
  },
  {
   "cell_type": "code",
   "execution_count": 33,
   "id": "92a604be-2318-437d-b0a3-3555074d78a5",
   "metadata": {},
   "outputs": [
    {
     "name": "stdout",
     "output_type": "stream",
     "text": [
      "타입: torch.LongTensor\n",
      "크기: torch.Size([2])\n",
      "값: tensor([ 3, 12])\n"
     ]
    }
   ],
   "source": [
    "describe(torch.sum(x, dim=1))"
   ]
  },
  {
   "cell_type": "code",
   "execution_count": 34,
   "id": "3c33864f-b048-4490-95a1-53867a09b4f4",
   "metadata": {},
   "outputs": [
    {
     "name": "stdout",
     "output_type": "stream",
     "text": [
      "타입: torch.LongTensor\n",
      "크기: torch.Size([3, 2])\n",
      "값: tensor([[0, 3],\n",
      "        [1, 4],\n",
      "        [2, 5]])\n"
     ]
    }
   ],
   "source": [
    "describe(torch.transpose(x, 0, 1)) # 두 번째와 세 번째 매개변수로 전달된 차원을 전치"
   ]
  },
  {
   "cell_type": "markdown",
   "id": "ebc4f98c-8ccd-410f-823a-abd5acf917f9",
   "metadata": {},
   "source": [
    "## 인덱싱, 슬라이싱, 연결"
   ]
  },
  {
   "cell_type": "code",
   "execution_count": 35,
   "id": "87b18493-eed3-4769-9cac-799e0500cedf",
   "metadata": {},
   "outputs": [
    {
     "name": "stdout",
     "output_type": "stream",
     "text": [
      "타입: torch.LongTensor\n",
      "크기: torch.Size([2, 3])\n",
      "값: tensor([[0, 1, 2],\n",
      "        [3, 4, 5]])\n"
     ]
    }
   ],
   "source": [
    "x = torch.arange(6).view(2,3)\n",
    "describe(x)"
   ]
  },
  {
   "cell_type": "code",
   "execution_count": 36,
   "id": "758de7e6-d451-4246-9a0a-8af72f425577",
   "metadata": {},
   "outputs": [
    {
     "name": "stdout",
     "output_type": "stream",
     "text": [
      "타입: torch.LongTensor\n",
      "크기: torch.Size([1, 2])\n",
      "값: tensor([[0, 1]])\n"
     ]
    }
   ],
   "source": [
    "describe(x[:1,:2])"
   ]
  },
  {
   "cell_type": "code",
   "execution_count": 37,
   "id": "f3ad7251-a0e7-4897-8a6f-23ab672b6807",
   "metadata": {},
   "outputs": [
    {
     "name": "stdout",
     "output_type": "stream",
     "text": [
      "타입: torch.LongTensor\n",
      "크기: torch.Size([])\n",
      "값: 1\n"
     ]
    }
   ],
   "source": [
    "describe(x[0,1])"
   ]
  },
  {
   "cell_type": "code",
   "execution_count": 38,
   "id": "1d95aee6-8136-4a59-b9be-864efd1f744a",
   "metadata": {},
   "outputs": [
    {
     "name": "stdout",
     "output_type": "stream",
     "text": [
      "타입: torch.LongTensor\n",
      "크기: torch.Size([2, 2])\n",
      "값: tensor([[0, 2],\n",
      "        [3, 5]])\n"
     ]
    }
   ],
   "source": [
    "indices = torch.LongTensor([0,2])\n",
    "describe(torch.index_select(x, dim=1, index=indices))"
   ]
  },
  {
   "cell_type": "code",
   "execution_count": 39,
   "id": "92004247-23b6-468f-b53e-71f08b555656",
   "metadata": {},
   "outputs": [
    {
     "name": "stdout",
     "output_type": "stream",
     "text": [
      "타입: torch.LongTensor\n",
      "크기: torch.Size([2, 3])\n",
      "값: tensor([[0, 1, 2],\n",
      "        [0, 1, 2]])\n"
     ]
    }
   ],
   "source": [
    "indices = torch.LongTensor([0,0])\n",
    "describe(torch.index_select(x, dim=0, index=indices))"
   ]
  },
  {
   "cell_type": "code",
   "execution_count": 40,
   "id": "6c0edd21-c413-4cae-8443-660abec5e842",
   "metadata": {},
   "outputs": [
    {
     "name": "stdout",
     "output_type": "stream",
     "text": [
      "타입: torch.LongTensor\n",
      "크기: torch.Size([2])\n",
      "값: tensor([0, 4])\n"
     ]
    }
   ],
   "source": [
    "row_indices = torch.arange(2).long()\n",
    "col_indices = torch.LongTensor([0,1])\n",
    "describe(x[row_indices, col_indices])"
   ]
  },
  {
   "cell_type": "markdown",
   "id": "651b3509-e472-49fc-8897-ac1e9f6f6ee3",
   "metadata": {},
   "source": [
    "## 텐서 연결"
   ]
  },
  {
   "cell_type": "code",
   "execution_count": 41,
   "id": "17abd79b-4af0-4409-a745-8550490721a3",
   "metadata": {},
   "outputs": [
    {
     "name": "stdout",
     "output_type": "stream",
     "text": [
      "타입: torch.LongTensor\n",
      "크기: torch.Size([2, 3])\n",
      "값: tensor([[0, 1, 2],\n",
      "        [3, 4, 5]])\n"
     ]
    }
   ],
   "source": [
    "x = torch.arange(6).view(2,3)\n",
    "describe(x)"
   ]
  },
  {
   "cell_type": "code",
   "execution_count": 42,
   "id": "a463eb08-ce2b-4407-b209-1106dc912412",
   "metadata": {},
   "outputs": [
    {
     "name": "stdout",
     "output_type": "stream",
     "text": [
      "타입: torch.LongTensor\n",
      "크기: torch.Size([4, 3])\n",
      "값: tensor([[0, 1, 2],\n",
      "        [3, 4, 5],\n",
      "        [0, 1, 2],\n",
      "        [3, 4, 5]])\n"
     ]
    }
   ],
   "source": [
    "describe(torch.cat([x,x],dim=0))"
   ]
  },
  {
   "cell_type": "code",
   "execution_count": 43,
   "id": "b71fcce2-2685-4277-8df8-3f06f7ba328a",
   "metadata": {},
   "outputs": [
    {
     "name": "stdout",
     "output_type": "stream",
     "text": [
      "타입: torch.LongTensor\n",
      "크기: torch.Size([2, 6])\n",
      "값: tensor([[0, 1, 2, 0, 1, 2],\n",
      "        [3, 4, 5, 3, 4, 5]])\n"
     ]
    }
   ],
   "source": [
    "describe(torch.cat([x,x],dim=1))"
   ]
  },
  {
   "cell_type": "code",
   "execution_count": 44,
   "id": "75fdbb8a-a130-4216-8c62-eeecc6d65aa3",
   "metadata": {},
   "outputs": [
    {
     "name": "stdout",
     "output_type": "stream",
     "text": [
      "타입: torch.LongTensor\n",
      "크기: torch.Size([2, 2, 3])\n",
      "값: tensor([[[0, 1, 2],\n",
      "         [3, 4, 5]],\n",
      "\n",
      "        [[0, 1, 2],\n",
      "         [3, 4, 5]]])\n"
     ]
    }
   ],
   "source": [
    "describe(torch.stack([x,x]))"
   ]
  },
  {
   "cell_type": "markdown",
   "id": "3ca03b49-eaa4-40fc-a8d2-6550911da606",
   "metadata": {},
   "source": [
    "## 선형 대수 연산"
   ]
  },
  {
   "cell_type": "code",
   "execution_count": 45,
   "id": "85e1b437-4715-45cc-89dc-11799207f6e9",
   "metadata": {},
   "outputs": [
    {
     "name": "stdout",
     "output_type": "stream",
     "text": [
      "타입: torch.FloatTensor\n",
      "크기: torch.Size([2, 3])\n",
      "값: tensor([[0., 1., 2.],\n",
      "        [3., 4., 5.]])\n"
     ]
    }
   ],
   "source": [
    "x1 = torch.arange(6).view(2,3).float()\n",
    "describe(x1)"
   ]
  },
  {
   "cell_type": "code",
   "execution_count": 46,
   "id": "12295f2d-eb2b-482d-b0af-0390c23ecaa0",
   "metadata": {},
   "outputs": [
    {
     "name": "stdout",
     "output_type": "stream",
     "text": [
      "타입: torch.FloatTensor\n",
      "크기: torch.Size([3, 2])\n",
      "값: tensor([[1., 2.],\n",
      "        [1., 2.],\n",
      "        [1., 2.]])\n"
     ]
    }
   ],
   "source": [
    "x2 = torch.ones(3,2)\n",
    "x2[:, 1] += 1\n",
    "describe(x2)"
   ]
  },
  {
   "cell_type": "code",
   "execution_count": 47,
   "id": "8f59e196-4a36-4c08-ad58-f78395592267",
   "metadata": {},
   "outputs": [
    {
     "name": "stdout",
     "output_type": "stream",
     "text": [
      "타입: torch.FloatTensor\n",
      "크기: torch.Size([2, 2])\n",
      "값: tensor([[ 3.,  6.],\n",
      "        [12., 24.]])\n"
     ]
    }
   ],
   "source": [
    "describe(torch.mm(x1,x2))"
   ]
  },
  {
   "cell_type": "markdown",
   "id": "e80ef847-fb10-4de3-9615-4a96101dd778",
   "metadata": {},
   "source": [
    "## 계산 그래프"
   ]
  },
  {
   "cell_type": "code",
   "execution_count": 48,
   "id": "6b90a88b-8f6e-4fb8-a6f1-b95366fcd28d",
   "metadata": {},
   "outputs": [
    {
     "name": "stdout",
     "output_type": "stream",
     "text": [
      "타입: torch.FloatTensor\n",
      "크기: torch.Size([2, 2])\n",
      "값: tensor([[1., 1.],\n",
      "        [1., 1.]], requires_grad=True)\n"
     ]
    }
   ],
   "source": [
    "x = torch.ones(2, 2, requires_grad=True)\n",
    "describe(x)"
   ]
  },
  {
   "cell_type": "code",
   "execution_count": 49,
   "id": "a2b70103-80e0-44f5-8d5d-8660918f2eed",
   "metadata": {},
   "outputs": [
    {
     "name": "stdout",
     "output_type": "stream",
     "text": [
      "타입: torch.FloatTensor\n",
      "크기: torch.Size([2, 2])\n",
      "값: tensor([[21., 21.],\n",
      "        [21., 21.]], grad_fn=<AddBackward0>)\n"
     ]
    }
   ],
   "source": [
    "y = (x+2) * (x+5) + 3\n",
    "describe(y)"
   ]
  },
  {
   "cell_type": "code",
   "execution_count": 50,
   "id": "f06e2122-2595-4f98-9adf-6f072069c7e0",
   "metadata": {},
   "outputs": [
    {
     "name": "stdout",
     "output_type": "stream",
     "text": [
      "타입: torch.FloatTensor\n",
      "크기: torch.Size([])\n",
      "값: 21.0\n"
     ]
    }
   ],
   "source": [
    "z = y.mean()\n",
    "describe(z)"
   ]
  },
  {
   "cell_type": "code",
   "execution_count": 51,
   "id": "780f9798-80d7-454b-93f9-4953ef4db932",
   "metadata": {},
   "outputs": [],
   "source": [
    "z.backward()"
   ]
  }
 ],
 "metadata": {
  "hide_input": false,
  "kernelspec": {
   "display_name": "Python 3 (ipykernel)",
   "language": "python",
   "name": "python3"
  },
  "language_info": {
   "codemirror_mode": {
    "name": "ipython",
    "version": 3
   },
   "file_extension": ".py",
   "mimetype": "text/x-python",
   "name": "python",
   "nbconvert_exporter": "python",
   "pygments_lexer": "ipython3",
   "version": "3.9.12"
  },
  "toc": {
   "base_numbering": 1,
   "nav_menu": {},
   "number_sections": true,
   "sideBar": true,
   "skip_h1_title": false,
   "title_cell": "Table of Contents",
   "title_sidebar": "Contents",
   "toc_cell": false,
   "toc_position": {},
   "toc_section_display": true,
   "toc_window_display": false
  },
  "varInspector": {
   "cols": {
    "lenName": 16,
    "lenType": 16,
    "lenVar": 40
   },
   "kernels_config": {
    "python": {
     "delete_cmd_postfix": "",
     "delete_cmd_prefix": "del ",
     "library": "var_list.py",
     "varRefreshCmd": "print(var_dic_list())"
    },
    "r": {
     "delete_cmd_postfix": ") ",
     "delete_cmd_prefix": "rm(",
     "library": "var_list.r",
     "varRefreshCmd": "cat(var_dic_list()) "
    }
   },
   "types_to_exclude": [
    "module",
    "function",
    "builtin_function_or_method",
    "instance",
    "_Feature"
   ],
   "window_display": false
  }
 },
 "nbformat": 4,
 "nbformat_minor": 5
}
